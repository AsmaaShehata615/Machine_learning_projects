{
  "nbformat": 4,
  "nbformat_minor": 5,
  "metadata": {
    "kernelspec": {
      "display_name": "Python 3",
      "language": "python",
      "name": "python3"
    },
    "language_info": {
      "codemirror_mode": {
        "name": "ipython",
        "version": 3
      },
      "file_extension": ".py",
      "mimetype": "text/x-python",
      "name": "python",
      "nbconvert_exporter": "python",
      "pygments_lexer": "ipython3",
      "version": "3.7.10"
    },
    "papermill": {
      "default_parameters": {},
      "duration": 17.959872,
      "end_time": "2021-08-18T13:24:12.339731",
      "environment_variables": {},
      "exception": null,
      "input_path": "__notebook__.ipynb",
      "output_path": "__notebook__.ipynb",
      "parameters": {},
      "start_time": "2021-08-18T13:23:54.379859",
      "version": "2.3.3"
    },
    "colab": {
      "name": "data analytics for weather data.ipynb",
      "provenance": [],
      "collapsed_sections": [
        "075f1aca",
        "ee2d1a23"
      ],
      "toc_visible": true
    }
  },
  "cells": [
    {
      "cell_type": "code",
      "metadata": {
        "execution": {
          "iopub.execute_input": "2021-08-18T13:24:03.484902Z",
          "iopub.status.busy": "2021-08-18T13:24:03.484142Z",
          "iopub.status.idle": "2021-08-18T13:24:04.506610Z",
          "shell.execute_reply": "2021-08-18T13:24:04.505825Z",
          "shell.execute_reply.started": "2021-08-18T13:22:54.702719Z"
        },
        "papermill": {
          "duration": 1.06958,
          "end_time": "2021-08-18T13:24:04.506791",
          "exception": false,
          "start_time": "2021-08-18T13:24:03.437211",
          "status": "completed"
        },
        "tags": [],
        "id": "9d7e58e7"
      },
      "source": [
        "# imports\n",
        "import numpy as np \n",
        "import pandas as pd \n",
        "import matplotlib.pyplot as plt\n",
        "import seaborn as sns\n",
        "from scipy import stats\n",
        "\n",
        "%matplotlib inline"
      ],
      "id": "9d7e58e7",
      "execution_count": null,
      "outputs": []
    },
    {
      "cell_type": "markdown",
      "metadata": {
        "_cell_guid": "b1076dfc-b9ad-4769-8c92-a6c4dae69d19",
        "_uuid": "8f2839f25d086af736a60e9eeb907d3b93b6e0e5",
        "papermill": {
          "duration": 0.026735,
          "end_time": "2021-08-18T13:24:04.566534",
          "exception": false,
          "start_time": "2021-08-18T13:24:04.539799",
          "status": "completed"
        },
        "tags": [],
        "id": "6ca63e45"
      },
      "source": [
        "# Get The Data"
      ],
      "id": "6ca63e45"
    },
    {
      "cell_type": "code",
      "metadata": {
        "execution": {
          "iopub.execute_input": "2021-08-18T13:24:04.626127Z",
          "iopub.status.busy": "2021-08-18T13:24:04.625438Z",
          "iopub.status.idle": "2021-08-18T13:24:04.683229Z",
          "shell.execute_reply": "2021-08-18T13:24:04.683862Z",
          "shell.execute_reply.started": "2021-08-18T13:22:55.769530Z"
        },
        "papermill": {
          "duration": 0.09038,
          "end_time": "2021-08-18T13:24:04.684069",
          "exception": false,
          "start_time": "2021-08-18T13:24:04.593689",
          "status": "completed"
        },
        "tags": [],
        "id": "5283d669"
      },
      "source": [
        "train_df = pd.read_csv('/content/train.csv')\n",
        "test_df = pd.read_csv('/content/test.csv')"
      ],
      "id": "5283d669",
      "execution_count": null,
      "outputs": []
    },
    {
      "cell_type": "code",
      "metadata": {
        "execution": {
          "iopub.execute_input": "2021-08-18T13:24:04.754811Z",
          "iopub.status.busy": "2021-08-18T13:24:04.754072Z",
          "iopub.status.idle": "2021-08-18T13:24:04.787273Z",
          "shell.execute_reply": "2021-08-18T13:24:04.787883Z",
          "shell.execute_reply.started": "2021-08-18T13:22:55.833786Z"
        },
        "papermill": {
          "duration": 0.075605,
          "end_time": "2021-08-18T13:24:04.788074",
          "exception": false,
          "start_time": "2021-08-18T13:24:04.712469",
          "status": "completed"
        },
        "tags": [],
        "colab": {
          "base_uri": "https://localhost:8080/",
          "height": 343
        },
        "id": "c63b038f",
        "outputId": "90a334bf-a975-4c6d-a847-69ba0dfd0506"
      },
      "source": [
        "train_df.head()"
      ],
      "id": "c63b038f",
      "execution_count": null,
      "outputs": [
        {
          "output_type": "execute_result",
          "data": {
            "text/html": [
              "<div>\n",
              "<style scoped>\n",
              "    .dataframe tbody tr th:only-of-type {\n",
              "        vertical-align: middle;\n",
              "    }\n",
              "\n",
              "    .dataframe tbody tr th {\n",
              "        vertical-align: top;\n",
              "    }\n",
              "\n",
              "    .dataframe thead th {\n",
              "        text-align: right;\n",
              "    }\n",
              "</style>\n",
              "<table border=\"1\" class=\"dataframe\">\n",
              "  <thead>\n",
              "    <tr style=\"text-align: right;\">\n",
              "      <th></th>\n",
              "      <th>ID</th>\n",
              "      <th>Date</th>\n",
              "      <th>y</th>\n",
              "      <th>Hour</th>\n",
              "      <th>Temperature(�C)</th>\n",
              "      <th>Humidity(%)</th>\n",
              "      <th>Wind speed (m/s)</th>\n",
              "      <th>Visibility (10m)</th>\n",
              "      <th>Dew point temperature(�C)</th>\n",
              "      <th>Solar Radiation (MJ/m2)</th>\n",
              "      <th>Rainfall(mm)</th>\n",
              "      <th>Snowfall (cm)</th>\n",
              "      <th>Seasons</th>\n",
              "      <th>Holiday</th>\n",
              "      <th>Functioning Day</th>\n",
              "    </tr>\n",
              "  </thead>\n",
              "  <tbody>\n",
              "    <tr>\n",
              "      <th>0</th>\n",
              "      <td>0</td>\n",
              "      <td>01/12/2017</td>\n",
              "      <td>254</td>\n",
              "      <td>0</td>\n",
              "      <td>-5.2</td>\n",
              "      <td>37</td>\n",
              "      <td>2.2</td>\n",
              "      <td>2000</td>\n",
              "      <td>-17.6</td>\n",
              "      <td>0.0</td>\n",
              "      <td>0.0</td>\n",
              "      <td>0.0</td>\n",
              "      <td>Winter</td>\n",
              "      <td>No Holiday</td>\n",
              "      <td>Yes</td>\n",
              "    </tr>\n",
              "    <tr>\n",
              "      <th>1</th>\n",
              "      <td>1</td>\n",
              "      <td>01/12/2017</td>\n",
              "      <td>204</td>\n",
              "      <td>1</td>\n",
              "      <td>-5.5</td>\n",
              "      <td>38</td>\n",
              "      <td>0.8</td>\n",
              "      <td>2000</td>\n",
              "      <td>-17.6</td>\n",
              "      <td>0.0</td>\n",
              "      <td>0.0</td>\n",
              "      <td>0.0</td>\n",
              "      <td>Winter</td>\n",
              "      <td>No Holiday</td>\n",
              "      <td>Yes</td>\n",
              "    </tr>\n",
              "    <tr>\n",
              "      <th>2</th>\n",
              "      <td>2</td>\n",
              "      <td>01/12/2017</td>\n",
              "      <td>173</td>\n",
              "      <td>2</td>\n",
              "      <td>-6.0</td>\n",
              "      <td>39</td>\n",
              "      <td>1.0</td>\n",
              "      <td>2000</td>\n",
              "      <td>-17.7</td>\n",
              "      <td>0.0</td>\n",
              "      <td>0.0</td>\n",
              "      <td>0.0</td>\n",
              "      <td>Winter</td>\n",
              "      <td>No Holiday</td>\n",
              "      <td>Yes</td>\n",
              "    </tr>\n",
              "    <tr>\n",
              "      <th>3</th>\n",
              "      <td>3</td>\n",
              "      <td>01/12/2017</td>\n",
              "      <td>107</td>\n",
              "      <td>3</td>\n",
              "      <td>-6.2</td>\n",
              "      <td>40</td>\n",
              "      <td>0.9</td>\n",
              "      <td>2000</td>\n",
              "      <td>-17.6</td>\n",
              "      <td>0.0</td>\n",
              "      <td>0.0</td>\n",
              "      <td>0.0</td>\n",
              "      <td>Winter</td>\n",
              "      <td>No Holiday</td>\n",
              "      <td>Yes</td>\n",
              "    </tr>\n",
              "    <tr>\n",
              "      <th>4</th>\n",
              "      <td>4</td>\n",
              "      <td>01/12/2017</td>\n",
              "      <td>78</td>\n",
              "      <td>4</td>\n",
              "      <td>-6.0</td>\n",
              "      <td>36</td>\n",
              "      <td>2.3</td>\n",
              "      <td>2000</td>\n",
              "      <td>-18.6</td>\n",
              "      <td>0.0</td>\n",
              "      <td>0.0</td>\n",
              "      <td>0.0</td>\n",
              "      <td>Winter</td>\n",
              "      <td>No Holiday</td>\n",
              "      <td>Yes</td>\n",
              "    </tr>\n",
              "  </tbody>\n",
              "</table>\n",
              "</div>"
            ],
            "text/plain": [
              "   ID        Date    y  Hour  ...  Snowfall (cm)  Seasons     Holiday  Functioning Day\n",
              "0   0  01/12/2017  254     0  ...            0.0   Winter  No Holiday              Yes\n",
              "1   1  01/12/2017  204     1  ...            0.0   Winter  No Holiday              Yes\n",
              "2   2  01/12/2017  173     2  ...            0.0   Winter  No Holiday              Yes\n",
              "3   3  01/12/2017  107     3  ...            0.0   Winter  No Holiday              Yes\n",
              "4   4  01/12/2017   78     4  ...            0.0   Winter  No Holiday              Yes\n",
              "\n",
              "[5 rows x 15 columns]"
            ]
          },
          "metadata": {},
          "execution_count": 3
        }
      ]
    },
    {
      "cell_type": "markdown",
      "metadata": {
        "papermill": {
          "duration": 0.030912,
          "end_time": "2021-08-18T13:24:04.851107",
          "exception": false,
          "start_time": "2021-08-18T13:24:04.820195",
          "status": "completed"
        },
        "tags": [],
        "id": "8f3310d3"
      },
      "source": [
        "# Data Exploration And EDA"
      ],
      "id": "8f3310d3"
    },
    {
      "cell_type": "code",
      "metadata": {
        "papermill": {
          "duration": 0.028766,
          "end_time": "2021-08-18T13:24:04.907926",
          "exception": false,
          "start_time": "2021-08-18T13:24:04.879160",
          "status": "completed"
        },
        "tags": [],
        "id": "9ce88a1c"
      },
      "source": [
        ""
      ],
      "id": "9ce88a1c",
      "execution_count": null,
      "outputs": []
    },
    {
      "cell_type": "code",
      "metadata": {
        "execution": {
          "iopub.execute_input": "2021-08-18T13:24:04.971277Z",
          "iopub.status.busy": "2021-08-18T13:24:04.970566Z",
          "iopub.status.idle": "2021-08-18T13:24:04.976227Z",
          "shell.execute_reply": "2021-08-18T13:24:04.975562Z",
          "shell.execute_reply.started": "2021-08-18T13:22:55.878123Z"
        },
        "papermill": {
          "duration": 0.040402,
          "end_time": "2021-08-18T13:24:04.976371",
          "exception": false,
          "start_time": "2021-08-18T13:24:04.935969",
          "status": "completed"
        },
        "tags": [],
        "id": "6da0146a"
      },
      "source": [
        "# adjusting column names of the train data\n",
        "col_names = ['ID', 'Date', 'y', 'Hour', 'Temperature', 'Humidity',\n",
        "       'Wind speed', 'Visibility', 'Dew point temperature',\n",
        "       'Solar Radiation', 'Rainfall', 'Snowfall', 'Seasons',\n",
        "       'Holiday', 'Functioning Day']\n",
        "train_df.columns = col_names"
      ],
      "id": "6da0146a",
      "execution_count": null,
      "outputs": []
    },
    {
      "cell_type": "code",
      "metadata": {
        "execution": {
          "iopub.execute_input": "2021-08-18T13:24:05.037930Z",
          "iopub.status.busy": "2021-08-18T13:24:05.037132Z",
          "iopub.status.idle": "2021-08-18T13:24:05.042023Z",
          "shell.execute_reply": "2021-08-18T13:24:05.042722Z",
          "shell.execute_reply.started": "2021-08-18T13:22:55.886303Z"
        },
        "papermill": {
          "duration": 0.037229,
          "end_time": "2021-08-18T13:24:05.042941",
          "exception": false,
          "start_time": "2021-08-18T13:24:05.005712",
          "status": "completed"
        },
        "tags": [],
        "id": "fb213cb8"
      },
      "source": [
        "# adjusting column names of the test data\n",
        "col_names = ['ID', 'Date','Hour', 'Temperature', 'Humidity',\n",
        "       'Wind speed', 'Visibility', 'Dew point temperature',\n",
        "       'Solar Radiation', 'Rainfall', 'Snowfall', 'Seasons',\n",
        "       'Holiday', 'Functioning Day']\n",
        "test_df.columns = col_names"
      ],
      "id": "fb213cb8",
      "execution_count": null,
      "outputs": []
    },
    {
      "cell_type": "code",
      "metadata": {
        "papermill": {
          "duration": 0.028313,
          "end_time": "2021-08-18T13:24:05.103536",
          "exception": false,
          "start_time": "2021-08-18T13:24:05.075223",
          "status": "completed"
        },
        "tags": [],
        "id": "a43a6af9"
      },
      "source": [
        ""
      ],
      "id": "a43a6af9",
      "execution_count": null,
      "outputs": []
    },
    {
      "cell_type": "code",
      "metadata": {
        "papermill": {
          "duration": 0.028313,
          "end_time": "2021-08-18T13:24:05.160364",
          "exception": false,
          "start_time": "2021-08-18T13:24:05.132051",
          "status": "completed"
        },
        "tags": [],
        "id": "f5306048"
      },
      "source": [
        ""
      ],
      "id": "f5306048",
      "execution_count": null,
      "outputs": []
    },
    {
      "cell_type": "code",
      "metadata": {
        "execution": {
          "iopub.execute_input": "2021-08-18T13:24:05.220773Z",
          "iopub.status.busy": "2021-08-18T13:24:05.220011Z",
          "iopub.status.idle": "2021-08-18T13:24:05.387387Z",
          "shell.execute_reply": "2021-08-18T13:24:05.387967Z",
          "shell.execute_reply.started": "2021-08-18T13:22:55.900428Z"
        },
        "papermill": {
          "duration": 0.199244,
          "end_time": "2021-08-18T13:24:05.388167",
          "exception": false,
          "start_time": "2021-08-18T13:24:05.188923",
          "status": "completed"
        },
        "tags": [],
        "id": "15bbaa0c"
      },
      "source": [
        "# adjusting Date \n",
        "for data in [train_df, test_df] :\n",
        "    data['Date'] = pd.to_datetime(data['Date'])\n",
        "    #train_df['Month'] = train_df['Date'].dt.month.astype(int)\n",
        "    #train_df['Weekday'] = train_df['Date'].dt.dayofweek.astype(int)\n",
        "    #train_df['Year'] = train_df['Date'].dt.year.astype(int)\n",
        "    data['Month'] = data['Date'].dt.strftime('%B')\n",
        "    data['Weekday'] = data['Date'].dt.strftime('%A')"
      ],
      "id": "15bbaa0c",
      "execution_count": null,
      "outputs": []
    },
    {
      "cell_type": "code",
      "metadata": {
        "papermill": {
          "duration": 0.029975,
          "end_time": "2021-08-18T13:24:05.449130",
          "exception": false,
          "start_time": "2021-08-18T13:24:05.419155",
          "status": "completed"
        },
        "tags": [],
        "id": "b77ba034"
      },
      "source": [
        ""
      ],
      "id": "b77ba034",
      "execution_count": null,
      "outputs": []
    },
    {
      "cell_type": "markdown",
      "metadata": {
        "papermill": {
          "duration": 0.02786,
          "end_time": "2021-08-18T13:24:05.505131",
          "exception": false,
          "start_time": "2021-08-18T13:24:05.477271",
          "status": "completed"
        },
        "tags": [],
        "id": "9e3a3de1"
      },
      "source": [
        "- there is a strong correlation between temperature and dew point temperature\n",
        "- temperature and hour is the most correlated features with y"
      ],
      "id": "9e3a3de1"
    },
    {
      "cell_type": "code",
      "metadata": {
        "papermill": {
          "duration": 0.027809,
          "end_time": "2021-08-18T13:24:05.560992",
          "exception": false,
          "start_time": "2021-08-18T13:24:05.533183",
          "status": "completed"
        },
        "tags": [],
        "id": "119b3515"
      },
      "source": [
        ""
      ],
      "id": "119b3515",
      "execution_count": null,
      "outputs": []
    },
    {
      "cell_type": "code",
      "metadata": {
        "papermill": {
          "duration": 0.027724,
          "end_time": "2021-08-18T13:24:05.617239",
          "exception": false,
          "start_time": "2021-08-18T13:24:05.589515",
          "status": "completed"
        },
        "tags": [],
        "id": "c6c5a57d"
      },
      "source": [
        ""
      ],
      "id": "c6c5a57d",
      "execution_count": null,
      "outputs": []
    },
    {
      "cell_type": "markdown",
      "metadata": {
        "papermill": {
          "duration": 0.027857,
          "end_time": "2021-08-18T13:24:05.673069",
          "exception": false,
          "start_time": "2021-08-18T13:24:05.645212",
          "status": "completed"
        },
        "tags": [],
        "id": "075f1aca"
      },
      "source": [
        "# Data Preparation"
      ],
      "id": "075f1aca"
    },
    {
      "cell_type": "code",
      "metadata": {
        "execution": {
          "iopub.execute_input": "2021-08-18T13:24:05.734372Z",
          "iopub.status.busy": "2021-08-18T13:24:05.733605Z",
          "iopub.status.idle": "2021-08-18T13:24:05.789021Z",
          "shell.execute_reply": "2021-08-18T13:24:05.788292Z",
          "shell.execute_reply.started": "2021-08-18T13:22:56.064366Z"
        },
        "papermill": {
          "duration": 0.087982,
          "end_time": "2021-08-18T13:24:05.789210",
          "exception": false,
          "start_time": "2021-08-18T13:24:05.701228",
          "status": "completed"
        },
        "tags": [],
        "id": "a752d78c",
        "colab": {
          "base_uri": "https://localhost:8080/",
          "height": 231
        },
        "outputId": "0c3d6341-925d-44cb-9cc4-54f502bc59e4"
      },
      "source": [
        "for data in [train_df, test_df]:\n",
        "    data.loc[data['Rainfall'] != 0, 'Rainfall'] = 1\n",
        "    #data.loc[data['Snowfall'] != 0, 'Snowfall'] = 1\n",
        "    data['Visibility'] = np.log(data['Visibility'])\n",
        "    #data['Solar Radiation'] = np.sqrt(data['Solar Radiation'])\n",
        "\n",
        "    data['Holiday'] = data['Holiday'].astype('category').cat.codes\n",
        "    data['Hour_sin'] = np.sin(2 * np.pi * data['Hour'] / 23)\n",
        "    #train_df = train_df.loc[(train_df['y'] < 2500)]\n",
        "    data.loc[data['Functioning Day'] == 'Yes', 'Functioning Day'] = 1\n",
        "    data.loc[data['Functioning Day'] == 'No', 'Functioning Day'] = 0\n",
        "    data['Functioning Day'] = data['Functioning Day'].astype(int)\n",
        "    data['Hot'] = 0\n",
        "    data.loc[data['Temperature'] >= 20 , 'Hot'] = 1\n",
        "    data['isOfficeHour']=0\n",
        "    data.loc[(data['Hour']>=17 ) & (data['Hour']<=20 ),'isOfficeHour' ]=1\n",
        "    data['weekend']=0\n",
        "    data.loc[data['Weekday']=='Sunday','weekend']=1\n",
        "    #ata.loc[data['Weekday']=='Friday','weekend']=1\n",
        "\n",
        "    #data['Hot'].value_counts()\n",
        "    #data['Cold'] = 0\n",
        "    #data.loc[data['Temperature'] > 5, 'Cold'] = 1\n",
        "    #train_df['Cold'].value_counts()\n",
        "    #data['Hour_cos']=np.cos(2*np.pi*data['Hour']/23)\n",
        "    #data['Seasons']=data['Seasons'].astype('category').cat.codes\n"
      ],
      "id": "a752d78c",
      "execution_count": null,
      "outputs": [
        {
          "output_type": "error",
          "ename": "NameError",
          "evalue": "ignored",
          "traceback": [
            "\u001b[0;31m---------------------------------------------------------------------------\u001b[0m",
            "\u001b[0;31mNameError\u001b[0m                                 Traceback (most recent call last)",
            "\u001b[0;32m<ipython-input-1-50ea88651c1b>\u001b[0m in \u001b[0;36m<module>\u001b[0;34m()\u001b[0m\n\u001b[0;32m----> 1\u001b[0;31m \u001b[0;32mfor\u001b[0m \u001b[0mdata\u001b[0m \u001b[0;32min\u001b[0m \u001b[0;34m[\u001b[0m\u001b[0mtrain_df\u001b[0m\u001b[0;34m,\u001b[0m \u001b[0mtest_df\u001b[0m\u001b[0;34m]\u001b[0m\u001b[0;34m:\u001b[0m\u001b[0;34m\u001b[0m\u001b[0;34m\u001b[0m\u001b[0m\n\u001b[0m\u001b[1;32m      2\u001b[0m     \u001b[0mdata\u001b[0m\u001b[0;34m.\u001b[0m\u001b[0mloc\u001b[0m\u001b[0;34m[\u001b[0m\u001b[0mdata\u001b[0m\u001b[0;34m[\u001b[0m\u001b[0;34m'Rainfall'\u001b[0m\u001b[0;34m]\u001b[0m \u001b[0;34m!=\u001b[0m \u001b[0;36m0\u001b[0m\u001b[0;34m,\u001b[0m \u001b[0;34m'Rainfall'\u001b[0m\u001b[0;34m]\u001b[0m \u001b[0;34m=\u001b[0m \u001b[0;36m1\u001b[0m\u001b[0;34m\u001b[0m\u001b[0;34m\u001b[0m\u001b[0m\n\u001b[1;32m      3\u001b[0m     \u001b[0;31m#data.loc[data['Snowfall'] != 0, 'Snowfall'] = 1\u001b[0m\u001b[0;34m\u001b[0m\u001b[0;34m\u001b[0m\u001b[0;34m\u001b[0m\u001b[0m\n\u001b[1;32m      4\u001b[0m     \u001b[0mdata\u001b[0m\u001b[0;34m[\u001b[0m\u001b[0;34m'Visibility'\u001b[0m\u001b[0;34m]\u001b[0m \u001b[0;34m=\u001b[0m \u001b[0mnp\u001b[0m\u001b[0;34m.\u001b[0m\u001b[0mlog\u001b[0m\u001b[0;34m(\u001b[0m\u001b[0mdata\u001b[0m\u001b[0;34m[\u001b[0m\u001b[0;34m'Visibility'\u001b[0m\u001b[0;34m]\u001b[0m\u001b[0;34m)\u001b[0m\u001b[0;34m\u001b[0m\u001b[0;34m\u001b[0m\u001b[0m\n\u001b[1;32m      5\u001b[0m     \u001b[0;31m#data['Solar Radiation'] = np.sqrt(data['Solar Radiation'])\u001b[0m\u001b[0;34m\u001b[0m\u001b[0;34m\u001b[0m\u001b[0;34m\u001b[0m\u001b[0m\n",
            "\u001b[0;31mNameError\u001b[0m: name 'train_df' is not defined"
          ]
        }
      ]
    },
    {
      "cell_type": "code",
      "metadata": {
        "execution": {
          "iopub.execute_input": "2021-08-18T13:24:05.852836Z",
          "iopub.status.busy": "2021-08-18T13:24:05.852030Z",
          "iopub.status.idle": "2021-08-18T13:24:05.863955Z",
          "shell.execute_reply": "2021-08-18T13:24:05.864548Z",
          "shell.execute_reply.started": "2021-08-18T13:22:56.117696Z"
        },
        "papermill": {
          "duration": 0.044374,
          "end_time": "2021-08-18T13:24:05.864776",
          "exception": false,
          "start_time": "2021-08-18T13:24:05.820402",
          "status": "completed"
        },
        "tags": [],
        "id": "c6dec923"
      },
      "source": [
        "# dropping some features\n",
        "train_df.drop(columns = ['ID', 'Date','Snowfall'], axis = 1, inplace = True)\n",
        "X_test = test_df.drop(columns = ['ID', 'Date','Snowfall'], axis = 1)"
      ],
      "id": "c6dec923",
      "execution_count": null,
      "outputs": []
    },
    {
      "cell_type": "code",
      "metadata": {
        "execution": {
          "iopub.execute_input": "2021-08-18T13:24:05.928518Z",
          "iopub.status.busy": "2021-08-18T13:24:05.927845Z",
          "iopub.status.idle": "2021-08-18T13:24:05.955619Z",
          "shell.execute_reply": "2021-08-18T13:24:05.954916Z",
          "shell.execute_reply.started": "2021-08-18T13:22:56.132851Z"
        },
        "papermill": {
          "duration": 0.059364,
          "end_time": "2021-08-18T13:24:05.955790",
          "exception": false,
          "start_time": "2021-08-18T13:24:05.896426",
          "status": "completed"
        },
        "tags": [],
        "id": "de703ba8"
      },
      "source": [
        "train_df = pd.get_dummies(train_df)\n",
        "X_test = pd.get_dummies(X_test)\n",
        "pd.options.display.max_columns = 100"
      ],
      "id": "de703ba8",
      "execution_count": null,
      "outputs": []
    },
    {
      "cell_type": "code",
      "metadata": {
        "execution": {
          "iopub.execute_input": "2021-08-18T13:24:06.035768Z",
          "iopub.status.busy": "2021-08-18T13:24:06.022844Z",
          "iopub.status.idle": "2021-08-18T13:24:06.049614Z",
          "shell.execute_reply": "2021-08-18T13:24:06.048973Z",
          "shell.execute_reply.started": "2021-08-18T13:22:56.162457Z"
        },
        "papermill": {
          "duration": 0.065736,
          "end_time": "2021-08-18T13:24:06.049797",
          "exception": false,
          "start_time": "2021-08-18T13:24:05.984061",
          "status": "completed"
        },
        "tags": [],
        "id": "132efe40"
      },
      "source": [
        "train_df.head()"
      ],
      "id": "132efe40",
      "execution_count": null,
      "outputs": []
    },
    {
      "cell_type": "code",
      "metadata": {
        "execution": {
          "iopub.execute_input": "2021-08-18T13:24:06.143620Z",
          "iopub.status.busy": "2021-08-18T13:24:06.135857Z",
          "iopub.status.idle": "2021-08-18T13:24:06.150005Z",
          "shell.execute_reply": "2021-08-18T13:24:06.149253Z",
          "shell.execute_reply.started": "2021-08-18T13:22:56.198694Z"
        },
        "papermill": {
          "duration": 0.068206,
          "end_time": "2021-08-18T13:24:06.150156",
          "exception": false,
          "start_time": "2021-08-18T13:24:06.081950",
          "status": "completed"
        },
        "tags": [],
        "id": "1f25bccc"
      },
      "source": [
        "X_test.head()"
      ],
      "id": "1f25bccc",
      "execution_count": null,
      "outputs": []
    },
    {
      "cell_type": "code",
      "metadata": {
        "execution": {
          "iopub.execute_input": "2021-08-18T13:24:06.218482Z",
          "iopub.status.busy": "2021-08-18T13:24:06.217507Z",
          "iopub.status.idle": "2021-08-18T13:24:06.221145Z",
          "shell.execute_reply": "2021-08-18T13:24:06.221720Z",
          "shell.execute_reply.started": "2021-08-18T13:22:56.232558Z"
        },
        "papermill": {
          "duration": 0.038434,
          "end_time": "2021-08-18T13:24:06.221973",
          "exception": false,
          "start_time": "2021-08-18T13:24:06.183539",
          "status": "completed"
        },
        "tags": [],
        "id": "1fea8186"
      },
      "source": [
        "## removing some outliers\n",
        "#print(f'Shape of training set before removing outliers is : {train_df.shape}')\n",
        "#train_df = train_df[train_df['Wind speed'] < 5.5]\n",
        "#train_df = train_df[train_df['y'] < 2500]\n",
        "#print(f'Shape of training set after removing outliers is : {train_df.shape}')"
      ],
      "id": "1fea8186",
      "execution_count": null,
      "outputs": []
    },
    {
      "cell_type": "markdown",
      "metadata": {
        "papermill": {
          "duration": 0.029892,
          "end_time": "2021-08-18T13:24:06.285826",
          "exception": false,
          "start_time": "2021-08-18T13:24:06.255934",
          "status": "completed"
        },
        "tags": [],
        "id": "ee2d1a23"
      },
      "source": [
        "# Spliting Data"
      ],
      "id": "ee2d1a23"
    },
    {
      "cell_type": "code",
      "metadata": {
        "execution": {
          "iopub.execute_input": "2021-08-18T13:24:06.354624Z",
          "iopub.status.busy": "2021-08-18T13:24:06.353441Z",
          "iopub.status.idle": "2021-08-18T13:24:06.567388Z",
          "shell.execute_reply": "2021-08-18T13:24:06.566812Z",
          "shell.execute_reply.started": "2021-08-18T13:22:56.238593Z"
        },
        "papermill": {
          "duration": 0.251496,
          "end_time": "2021-08-18T13:24:06.567526",
          "exception": false,
          "start_time": "2021-08-18T13:24:06.316030",
          "status": "completed"
        },
        "tags": [],
        "id": "4651ad7c",
        "colab": {
          "base_uri": "https://localhost:8080/",
          "height": 214
        },
        "outputId": "35b65bd5-886e-4787-d8b0-7f0d6ace49bc"
      },
      "source": [
        "features = train_df.drop(columns = ['y'])\n",
        "target = np.log1p(train_df['y'])\n",
        "from sklearn.model_selection import train_test_split, GridSearchCV\n",
        "X_train, X_val, y_train, y_val = train_test_split(features, target, test_size = 0.2, shuffle = True, random_state = 42)"
      ],
      "id": "4651ad7c",
      "execution_count": null,
      "outputs": [
        {
          "output_type": "error",
          "ename": "NameError",
          "evalue": "ignored",
          "traceback": [
            "\u001b[0;31m---------------------------------------------------------------------------\u001b[0m",
            "\u001b[0;31mNameError\u001b[0m                                 Traceback (most recent call last)",
            "\u001b[0;32m<ipython-input-2-72553ea6c633>\u001b[0m in \u001b[0;36m<module>\u001b[0;34m()\u001b[0m\n\u001b[0;32m----> 1\u001b[0;31m \u001b[0mfeatures\u001b[0m \u001b[0;34m=\u001b[0m \u001b[0mtrain_df\u001b[0m\u001b[0;34m.\u001b[0m\u001b[0mdrop\u001b[0m\u001b[0;34m(\u001b[0m\u001b[0mcolumns\u001b[0m \u001b[0;34m=\u001b[0m \u001b[0;34m[\u001b[0m\u001b[0;34m'y'\u001b[0m\u001b[0;34m]\u001b[0m\u001b[0;34m)\u001b[0m\u001b[0;34m\u001b[0m\u001b[0;34m\u001b[0m\u001b[0m\n\u001b[0m\u001b[1;32m      2\u001b[0m \u001b[0mtarget\u001b[0m \u001b[0;34m=\u001b[0m \u001b[0mnp\u001b[0m\u001b[0;34m.\u001b[0m\u001b[0mlog1p\u001b[0m\u001b[0;34m(\u001b[0m\u001b[0mtrain_df\u001b[0m\u001b[0;34m[\u001b[0m\u001b[0;34m'y'\u001b[0m\u001b[0;34m]\u001b[0m\u001b[0;34m)\u001b[0m\u001b[0;34m\u001b[0m\u001b[0;34m\u001b[0m\u001b[0m\n\u001b[1;32m      3\u001b[0m \u001b[0;32mfrom\u001b[0m \u001b[0msklearn\u001b[0m\u001b[0;34m.\u001b[0m\u001b[0mmodel_selection\u001b[0m \u001b[0;32mimport\u001b[0m \u001b[0mtrain_test_split\u001b[0m\u001b[0;34m,\u001b[0m \u001b[0mGridSearchCV\u001b[0m\u001b[0;34m\u001b[0m\u001b[0;34m\u001b[0m\u001b[0m\n\u001b[1;32m      4\u001b[0m \u001b[0mX_train\u001b[0m\u001b[0;34m,\u001b[0m \u001b[0mX_val\u001b[0m\u001b[0;34m,\u001b[0m \u001b[0my_train\u001b[0m\u001b[0;34m,\u001b[0m \u001b[0my_val\u001b[0m \u001b[0;34m=\u001b[0m \u001b[0mtrain_test_split\u001b[0m\u001b[0;34m(\u001b[0m\u001b[0mfeatures\u001b[0m\u001b[0;34m,\u001b[0m \u001b[0mtarget\u001b[0m\u001b[0;34m,\u001b[0m \u001b[0mtest_size\u001b[0m \u001b[0;34m=\u001b[0m \u001b[0;36m0.2\u001b[0m\u001b[0;34m,\u001b[0m \u001b[0mshuffle\u001b[0m \u001b[0;34m=\u001b[0m \u001b[0;32mTrue\u001b[0m\u001b[0;34m,\u001b[0m \u001b[0mrandom_state\u001b[0m \u001b[0;34m=\u001b[0m \u001b[0;36m42\u001b[0m\u001b[0;34m)\u001b[0m\u001b[0;34m\u001b[0m\u001b[0;34m\u001b[0m\u001b[0m\n",
            "\u001b[0;31mNameError\u001b[0m: name 'train_df' is not defined"
          ]
        }
      ]
    },
    {
      "cell_type": "markdown",
      "metadata": {
        "papermill": {
          "duration": 0.029751,
          "end_time": "2021-08-18T13:24:06.627336",
          "exception": false,
          "start_time": "2021-08-18T13:24:06.597585",
          "status": "completed"
        },
        "tags": [],
        "id": "7ff0df9d"
      },
      "source": [
        "# Training Some Model"
      ],
      "id": "7ff0df9d"
    },
    {
      "cell_type": "code",
      "metadata": {
        "papermill": {
          "duration": 0.029819,
          "end_time": "2021-08-18T13:24:06.687149",
          "exception": false,
          "start_time": "2021-08-18T13:24:06.657330",
          "status": "completed"
        },
        "tags": [],
        "id": "49450713"
      },
      "source": [
        ""
      ],
      "id": "49450713",
      "execution_count": null,
      "outputs": []
    },
    {
      "cell_type": "code",
      "metadata": {
        "execution": {
          "iopub.execute_input": "2021-08-18T13:24:06.753567Z",
          "iopub.status.busy": "2021-08-18T13:24:06.752791Z",
          "iopub.status.idle": "2021-08-18T13:24:10.029928Z",
          "shell.execute_reply": "2021-08-18T13:24:10.029269Z",
          "shell.execute_reply.started": "2021-08-18T13:22:56.447457Z"
        },
        "papermill": {
          "duration": 3.312738,
          "end_time": "2021-08-18T13:24:10.030070",
          "exception": false,
          "start_time": "2021-08-18T13:24:06.717332",
          "status": "completed"
        },
        "tags": [],
        "colab": {
          "base_uri": "https://localhost:8080/"
        },
        "id": "5c89f9d7",
        "outputId": "d193e451-58f8-4d61-bb6d-70b0e318525e"
      },
      "source": [
        "from sklearn.pipeline import Pipeline\n",
        "from sklearn.preprocessing import PolynomialFeatures, StandardScaler\n",
        "from sklearn.ensemble import RandomForestRegressor\n",
        "from sklearn.metrics import r2_score, mean_squared_log_error, make_scorer\n",
        "\n",
        "RN_model = RandomForestRegressor(n_estimators = 200, max_depth =5)\n",
        "steps = [\n",
        "    ('scalar', StandardScaler()),\n",
        "    ('poly', PolynomialFeatures(degree=2)),\n",
        "    ('model', RN_model)\n",
        "]\n",
        "pipe = Pipeline(steps)\n",
        "pipe.fit(X_train, y_train)"
      ],
      "id": "5c89f9d7",
      "execution_count": null,
      "outputs": [
        {
          "output_type": "execute_result",
          "data": {
            "text/plain": [
              "Pipeline(memory=None,\n",
              "         steps=[('scalar',\n",
              "                 StandardScaler(copy=True, with_mean=True, with_std=True)),\n",
              "                ('poly',\n",
              "                 PolynomialFeatures(degree=2, include_bias=True,\n",
              "                                    interaction_only=False, order='C')),\n",
              "                ('model',\n",
              "                 RandomForestRegressor(bootstrap=True, ccp_alpha=0.0,\n",
              "                                       criterion='mse', max_depth=5,\n",
              "                                       max_features='auto', max_leaf_nodes=None,\n",
              "                                       max_samples=None,\n",
              "                                       min_impurity_decrease=0.0,\n",
              "                                       min_impurity_split=None,\n",
              "                                       min_samples_leaf=1, min_samples_split=2,\n",
              "                                       min_weight_fraction_leaf=0.0,\n",
              "                                       n_estimators=200, n_jobs=None,\n",
              "                                       oob_score=False, random_state=None,\n",
              "                                       verbose=0, warm_start=False))],\n",
              "         verbose=False)"
            ]
          },
          "metadata": {},
          "execution_count": 40
        }
      ]
    },
    {
      "cell_type": "code",
      "metadata": {
        "execution": {
          "iopub.execute_input": "2021-08-18T13:24:10.160097Z",
          "iopub.status.busy": "2021-08-18T13:24:10.159187Z",
          "iopub.status.idle": "2021-08-18T13:24:10.162223Z",
          "shell.execute_reply": "2021-08-18T13:24:10.162673Z",
          "shell.execute_reply.started": "2021-08-18T13:22:59.688837Z"
        },
        "papermill": {
          "duration": 0.041552,
          "end_time": "2021-08-18T13:24:10.162863",
          "exception": false,
          "start_time": "2021-08-18T13:24:10.121311",
          "status": "completed"
        },
        "tags": [],
        "id": "9a8cb8ba"
      },
      "source": [
        "def print_metrics(y_train_pred, y_val_pred, model_name) :\n",
        "    print('============' + model_name + '============' )\n",
        "    print('R2_Score for Training Data Is : ', r2_score(np.expm1(y_train), np.expm1(y_train_pred)))\n",
        "    print('R2_Score For Validation Data Is : ', r2_score(np.expm1(y_val), np.expm1(y_val_pred)))\n",
        "    print('Square Root Of Mean Squared Log Error For Training Data : ', np.sqrt(mean_squared_log_error(np.round(np.expm1(y_train)), np.round(np.expm1(y_train_pred)))))\n",
        "    print('Square Root Of Mean Squared Log Error For Validation Data : ', np.sqrt(mean_squared_log_error(np.round(np.expm1(y_val)), np.round(np.expm1(y_val_pred)))))\n",
        "    print('\\n')"
      ],
      "id": "9a8cb8ba",
      "execution_count": null,
      "outputs": []
    },
    {
      "cell_type": "code",
      "metadata": {
        "execution": {
          "iopub.execute_input": "2021-08-18T13:24:10.232061Z",
          "iopub.status.busy": "2021-08-18T13:24:10.230810Z",
          "iopub.status.idle": "2021-08-18T13:24:10.277354Z",
          "shell.execute_reply": "2021-08-18T13:24:10.276446Z",
          "shell.execute_reply.started": "2021-08-18T13:22:59.701745Z"
        },
        "papermill": {
          "duration": 0.084437,
          "end_time": "2021-08-18T13:24:10.277574",
          "exception": false,
          "start_time": "2021-08-18T13:24:10.193137",
          "status": "completed"
        },
        "tags": [],
        "colab": {
          "base_uri": "https://localhost:8080/"
        },
        "id": "60d15e9b",
        "outputId": "28d3b5a3-e4f3-4e7a-9d57-280b0269a8db"
      },
      "source": [
        "RN_train_pred = pipe.predict(X_train)\n",
        "RN_val_pred = pipe.predict(X_val)\n",
        "# random forest Scores\n",
        "print_metrics(RN_train_pred, RN_val_pred, 'Random Forest Regressor')"
      ],
      "id": "60d15e9b",
      "execution_count": null,
      "outputs": [
        {
          "output_type": "stream",
          "text": [
            "============Random Forest Regressor============\n",
            "R2_Score for Training Data Is :  0.7185019746370751\n",
            "R2_Score For Validation Data Is :  0.7104682446551704\n",
            "Square Root Of Mean Squared Log Error For Training Data :  0.4968252510225262\n",
            "Square Root Of Mean Squared Log Error For Validation Data :  0.5152342380150058\n",
            "\n",
            "\n"
          ],
          "name": "stdout"
        }
      ]
    },
    {
      "cell_type": "code",
      "metadata": {
        "colab": {
          "base_uri": "https://localhost:8080/"
        },
        "id": "c_8itsSzdQV6",
        "outputId": "c2f88b71-d125-4f55-c31d-f4b78c1392cd"
      },
      "source": [
        "from xgboost import XGBRegressor\n",
        "xg_model = XGBRegressor(base_score=0.5, booster='gbtree',learning_rate=0.1)\n",
        "xg_model.fit(X_train, y_train)"
      ],
      "id": "c_8itsSzdQV6",
      "execution_count": null,
      "outputs": [
        {
          "output_type": "stream",
          "text": [
            "[12:33:42] WARNING: /workspace/src/objective/regression_obj.cu:152: reg:linear is now deprecated in favor of reg:squarederror.\n"
          ],
          "name": "stdout"
        },
        {
          "output_type": "execute_result",
          "data": {
            "text/plain": [
              "XGBRegressor(base_score=0.5, booster='gbtree', colsample_bylevel=1,\n",
              "             colsample_bynode=1, colsample_bytree=1, gamma=0,\n",
              "             importance_type='gain', learning_rate=0.1, max_delta_step=0,\n",
              "             max_depth=3, min_child_weight=1, missing=None, n_estimators=100,\n",
              "             n_jobs=1, nthread=None, objective='reg:linear', random_state=0,\n",
              "             reg_alpha=0, reg_lambda=1, scale_pos_weight=1, seed=None,\n",
              "             silent=None, subsample=1, verbosity=1)"
            ]
          },
          "metadata": {},
          "execution_count": 74
        }
      ]
    },
    {
      "cell_type": "code",
      "metadata": {
        "colab": {
          "base_uri": "https://localhost:8080/"
        },
        "id": "7xdkzjY8fQmc",
        "outputId": "b4abc5a7-67a3-406b-c6e4-6995e742952c"
      },
      "source": [
        "xg_train_pred = xg_model.predict(X_train)\n",
        "xg_val_pred = xg_model.predict(X_val)\n",
        "# random forest Scores\n",
        "print_metrics(xg_train_pred, xg_val_pred, 'xgboosting Regressor')"
      ],
      "id": "7xdkzjY8fQmc",
      "execution_count": null,
      "outputs": [
        {
          "output_type": "stream",
          "text": [
            "============xgboosting Regressor============\n",
            "R2_Score for Training Data Is :  0.8489342254671565\n",
            "R2_Score For Validation Data Is :  0.8337242455884731\n",
            "Square Root Of Mean Squared Log Error For Training Data :  0.42842488796357237\n",
            "Square Root Of Mean Squared Log Error For Validation Data :  0.4570728984584059\n",
            "\n",
            "\n"
          ],
          "name": "stdout"
        }
      ]
    },
    {
      "cell_type": "code",
      "metadata": {
        "execution": {
          "iopub.execute_input": "2021-08-18T13:24:11.158798Z",
          "iopub.status.busy": "2021-08-18T13:24:11.157986Z",
          "iopub.status.idle": "2021-08-18T13:24:11.177205Z",
          "shell.execute_reply": "2021-08-18T13:24:11.177730Z",
          "shell.execute_reply.started": "2021-08-18T13:23:00.332400Z"
        },
        "papermill": {
          "duration": 0.054066,
          "end_time": "2021-08-18T13:24:11.177937",
          "exception": false,
          "start_time": "2021-08-18T13:24:11.123871",
          "status": "completed"
        },
        "tags": [],
        "id": "be30c14f"
      },
      "source": [
        "test_df[['ID', 'y']].to_csv('submission.csv', index = False)"
      ],
      "id": "be30c14f",
      "execution_count": null,
      "outputs": []
    },
    {
      "cell_type": "code",
      "metadata": {
        "papermill": {
          "duration": 0.031191,
          "end_time": "2021-08-18T13:24:11.240730",
          "exception": false,
          "start_time": "2021-08-18T13:24:11.209539",
          "status": "completed"
        },
        "tags": [],
        "id": "65700606"
      },
      "source": [
        ""
      ],
      "id": "65700606",
      "execution_count": null,
      "outputs": []
    },
    {
      "cell_type": "code",
      "metadata": {
        "papermill": {
          "duration": 0.031051,
          "end_time": "2021-08-18T13:24:11.303100",
          "exception": false,
          "start_time": "2021-08-18T13:24:11.272049",
          "status": "completed"
        },
        "tags": [],
        "id": "ab21310b"
      },
      "source": [
        ""
      ],
      "id": "ab21310b",
      "execution_count": null,
      "outputs": []
    },
    {
      "cell_type": "code",
      "metadata": {
        "papermill": {
          "duration": 0.031827,
          "end_time": "2021-08-18T13:24:11.366342",
          "exception": false,
          "start_time": "2021-08-18T13:24:11.334515",
          "status": "completed"
        },
        "tags": [],
        "id": "952e0f45"
      },
      "source": [
        ""
      ],
      "id": "952e0f45",
      "execution_count": null,
      "outputs": []
    },
    {
      "cell_type": "code",
      "metadata": {
        "papermill": {
          "duration": 0.032196,
          "end_time": "2021-08-18T13:24:11.432161",
          "exception": false,
          "start_time": "2021-08-18T13:24:11.399965",
          "status": "completed"
        },
        "tags": [],
        "id": "6dbd34e7"
      },
      "source": [
        ""
      ],
      "id": "6dbd34e7",
      "execution_count": null,
      "outputs": []
    },
    {
      "cell_type": "code",
      "metadata": {
        "papermill": {
          "duration": 0.031101,
          "end_time": "2021-08-18T13:24:11.495947",
          "exception": false,
          "start_time": "2021-08-18T13:24:11.464846",
          "status": "completed"
        },
        "tags": [],
        "id": "07441c72"
      },
      "source": [
        ""
      ],
      "id": "07441c72",
      "execution_count": null,
      "outputs": []
    }
  ]
}